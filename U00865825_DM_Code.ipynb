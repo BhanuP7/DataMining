{
 "cells": [
  {
   "cell_type": "code",
   "execution_count": 1,
   "id": "36988f42",
   "metadata": {},
   "outputs": [],
   "source": [
    "import numpy as np\n",
    "from tensorflow import keras\n",
    "import tensorflow\n",
    "from tensorflow.keras.models import Sequential\n",
    "from tensorflow.keras.layers import LSTM\n",
    "from tensorflow.keras.layers import Dense\n",
    "from tensorflow.keras.layers import Dropout\n",
    "import pandas as pd\n",
    "import matplotlib.pyplot as plt\n",
    "from sklearn.preprocessing import StandardScaler\n",
    "import seaborn as sns"
   ]
  },
  {
   "cell_type": "code",
   "execution_count": 2,
   "id": "19031af6",
   "metadata": {},
   "outputs": [],
   "source": [
    "data=pd.read_csv('E:/SEM-1/Smart Energy/Assignment1/Home1_Daily_data.csv')\n",
    "df=data.loc[data['Date & Time']<'2014-12-01']"
   ]
  },
  {
   "cell_type": "code",
   "execution_count": 3,
   "id": "dc159cfe",
   "metadata": {},
   "outputs": [],
   "source": [
    "train_dates=pd.to_datetime(df['Date & Time'])"
   ]
  },
  {
   "cell_type": "code",
   "execution_count": 4,
   "id": "51c44abc",
   "metadata": {},
   "outputs": [],
   "source": [
    "cols=list(data)[3:30]"
   ]
  },
  {
   "cell_type": "code",
   "execution_count": 5,
   "id": "36287a26",
   "metadata": {},
   "outputs": [],
   "source": [
    "df_for_training=data[cols].astype('float')"
   ]
  },
  {
   "cell_type": "code",
   "execution_count": 6,
   "id": "a1c41750",
   "metadata": {},
   "outputs": [],
   "source": [
    "scaler=StandardScaler()"
   ]
  },
  {
   "cell_type": "code",
   "execution_count": 7,
   "id": "2d6de9fb",
   "metadata": {},
   "outputs": [],
   "source": [
    "scaler=scaler.fit(df_for_training)"
   ]
  },
  {
   "cell_type": "code",
   "execution_count": 8,
   "id": "bf058e84",
   "metadata": {},
   "outputs": [],
   "source": [
    "df_for_training_scaled=scaler.transform(df_for_training)"
   ]
  },
  {
   "cell_type": "code",
   "execution_count": 9,
   "id": "fada9ef1",
   "metadata": {},
   "outputs": [],
   "source": [
    "trainX=[]\n",
    "trainY=[]"
   ]
  },
  {
   "cell_type": "code",
   "execution_count": 10,
   "id": "b1ddbfc7",
   "metadata": {},
   "outputs": [],
   "source": [
    "n_future=1\n",
    "n_past=1"
   ]
  },
  {
   "cell_type": "code",
   "execution_count": 11,
   "id": "53c20101",
   "metadata": {},
   "outputs": [],
   "source": [
    "for i in range(n_past,len(df_for_training_scaled)-n_future+1):\n",
    "    trainX.append(df_for_training_scaled[i-n_past:i,0:df_for_training.shape[1]])\n",
    "    trainY.append(df_for_training_scaled[i+n_future-1:i+n_future,0])"
   ]
  },
  {
   "cell_type": "code",
   "execution_count": 12,
   "id": "efb8b8d4",
   "metadata": {},
   "outputs": [],
   "source": [
    "trainX, trainY=np.array(trainX),np.array(trainY)"
   ]
  },
  {
   "cell_type": "code",
   "execution_count": 13,
   "id": "49b79b06",
   "metadata": {},
   "outputs": [
    {
     "name": "stdout",
     "output_type": "stream",
     "text": [
      "trainX shape==(364, 1, 27).\n",
      "trainY shape==(364, 1).\n"
     ]
    }
   ],
   "source": [
    "print('trainX shape=={}.'.format(trainX.shape))\n",
    "print('trainY shape=={}.'.format(trainY.shape))"
   ]
  },
  {
   "cell_type": "code",
   "execution_count": 14,
   "id": "30ca96c3",
   "metadata": {},
   "outputs": [],
   "source": [
    "model=Sequential()"
   ]
  },
  {
   "cell_type": "code",
   "execution_count": 15,
   "id": "ae5f060d",
   "metadata": {},
   "outputs": [],
   "source": [
    "model.add(LSTM(64,activation='relu',input_shape=(trainX.shape[1],trainX.shape[2]),return_sequences=True))"
   ]
  },
  {
   "cell_type": "code",
   "execution_count": 16,
   "id": "92f1cc01",
   "metadata": {},
   "outputs": [],
   "source": [
    "model.add(LSTM(32,activation='relu',return_sequences=False))"
   ]
  },
  {
   "cell_type": "code",
   "execution_count": 17,
   "id": "f9e91e3b",
   "metadata": {},
   "outputs": [],
   "source": [
    "model.add(Dropout(0.2))\n",
    "model.add(Dense(trainY.shape[1]))"
   ]
  },
  {
   "cell_type": "code",
   "execution_count": 18,
   "id": "c3739d26",
   "metadata": {},
   "outputs": [
    {
     "name": "stdout",
     "output_type": "stream",
     "text": [
      "Model: \"sequential\"\n",
      "_________________________________________________________________\n",
      "Layer (type)                 Output Shape              Param #   \n",
      "=================================================================\n",
      "lstm (LSTM)                  (None, 1, 64)             23552     \n",
      "_________________________________________________________________\n",
      "lstm_1 (LSTM)                (None, 32)                12416     \n",
      "_________________________________________________________________\n",
      "dropout (Dropout)            (None, 32)                0         \n",
      "_________________________________________________________________\n",
      "dense (Dense)                (None, 1)                 33        \n",
      "=================================================================\n",
      "Total params: 36,001\n",
      "Trainable params: 36,001\n",
      "Non-trainable params: 0\n",
      "_________________________________________________________________\n"
     ]
    }
   ],
   "source": [
    "model.compile(optimizer='adam',loss='mean_squared_error')\n",
    "model.summary()"
   ]
  },
  {
   "cell_type": "code",
   "execution_count": 19,
   "id": "22f3d545",
   "metadata": {},
   "outputs": [
    {
     "name": "stdout",
     "output_type": "stream",
     "text": [
      "Epoch 1/10\n",
      "21/21 [==============================] - 3s 29ms/step - loss: 0.9898 - val_loss: 0.8150\n",
      "Epoch 2/10\n",
      "21/21 [==============================] - 0s 5ms/step - loss: 0.9057 - val_loss: 0.7783\n",
      "Epoch 3/10\n",
      "21/21 [==============================] - 0s 5ms/step - loss: 0.7589 - val_loss: 0.6566\n",
      "Epoch 4/10\n",
      "21/21 [==============================] - 0s 5ms/step - loss: 0.6039 - val_loss: 0.5358\n",
      "Epoch 5/10\n",
      "21/21 [==============================] - 0s 5ms/step - loss: 0.5265 - val_loss: 0.5431\n",
      "Epoch 6/10\n",
      "21/21 [==============================] - 0s 5ms/step - loss: 0.4651 - val_loss: 0.5200\n",
      "Epoch 7/10\n",
      "21/21 [==============================] - 0s 5ms/step - loss: 0.4417 - val_loss: 0.5095\n",
      "Epoch 8/10\n",
      "21/21 [==============================] - 0s 5ms/step - loss: 0.4513 - val_loss: 0.4931\n",
      "Epoch 9/10\n",
      "21/21 [==============================] - 0s 5ms/step - loss: 0.3965 - val_loss: 0.4895\n",
      "Epoch 10/10\n",
      "21/21 [==============================] - 0s 5ms/step - loss: 0.4033 - val_loss: 0.4901\n"
     ]
    }
   ],
   "source": [
    "history=model.fit(trainX,trainY,epochs=10,batch_size=16,validation_split=0.1,verbose=1)"
   ]
  },
  {
   "cell_type": "code",
   "execution_count": 20,
   "id": "18ea32a7",
   "metadata": {},
   "outputs": [
    {
     "data": {
      "text/plain": [
       "<matplotlib.legend.Legend at 0x18595f27970>"
      ]
     },
     "execution_count": 20,
     "metadata": {},
     "output_type": "execute_result"
    },
    {
     "data": {
      "image/png": "[encoded data removed]",
      "text/plain": [
       "<Figure size 432x288 with 1 Axes>"
      ]
     },
     "metadata": {
      "needs_background": "light"
     },
     "output_type": "display_data"
    }
   ],
   "source": [
    "plt.plot(history.history['loss'],label='Training loss')\n",
    "plt.plot(history.history['val_loss'],label='Validation loss')\n",
    "plt.legend()"
   ]
  },
  {
   "cell_type": "code",
   "execution_count": 21,
   "id": "0e6d6d45",
   "metadata": {},
   "outputs": [],
   "source": [
    "n_future=32"
   ]
  },
  {
   "cell_type": "code",
   "execution_count": 22,
   "id": "b1c380c0",
   "metadata": {},
   "outputs": [],
   "source": [
    "forecast_periods_dates=pd.date_range(list(train_dates)[-1],periods=n_future,freq='1d').tolist()"
   ]
  },
  {
   "cell_type": "code",
   "execution_count": 23,
   "id": "88094654",
   "metadata": {},
   "outputs": [],
   "source": [
    "forecast=model.predict(trainX[-n_future:])"
   ]
  },
  {
   "cell_type": "code",
   "execution_count": 24,
   "id": "cde548d3",
   "metadata": {},
   "outputs": [],
   "source": [
    "forecast_copies=np.repeat(forecast,df_for_training.shape[1],axis=-1)"
   ]
  },
  {
   "cell_type": "code",
   "execution_count": 25,
   "id": "aec0b8fb",
   "metadata": {},
   "outputs": [],
   "source": [
    "y_pred_future=scaler.inverse_transform(forecast_copies)[:,0]"
   ]
  },
  {
   "cell_type": "code",
   "execution_count": 26,
   "id": "7e7002dd",
   "metadata": {},
   "outputs": [],
   "source": [
    "forecast_dates=[]"
   ]
  },
  {
   "cell_type": "code",
   "execution_count": 27,
   "id": "343381b3",
   "metadata": {},
   "outputs": [],
   "source": [
    "for time_i in forecast_periods_dates:\n",
    "    forecast_dates.append(time_i.date())"
   ]
  },
  {
   "cell_type": "code",
   "execution_count": 28,
   "id": "f328b238",
   "metadata": {},
   "outputs": [],
   "source": [
    "df_forecast=pd.DataFrame({'Date & Time':np.array(forecast_dates),'House overall [kW]':y_pred_future})"
   ]
  },
  {
   "cell_type": "code",
   "execution_count": 29,
   "id": "d2396e30",
   "metadata": {},
   "outputs": [],
   "source": [
    "df_forecast['Date & Time']=pd.to_datetime(df_forecast['Date & Time'])"
   ]
  },
  {
   "cell_type": "code",
   "execution_count": 30,
   "id": "56949da1",
   "metadata": {},
   "outputs": [
    {
     "name": "stderr",
     "output_type": "stream",
     "text": [
      "C:\\Users\\bsaiv\\AppData\\Local\\Temp\\ipykernel_17984\\2479359509.py:3: SettingWithCopyWarning: \n",
      "A value is trying to be set on a copy of a slice from a DataFrame.\n",
      "Try using .loc[row_indexer,col_indexer] = value instead\n",
      "\n",
      "See the caveats in the documentation: https://pandas.pydata.org/pandas-docs/stable/user_guide/indexing.html#returning-a-view-versus-a-copy\n",
      "  original['Date & Time']=pd.to_datetime(original['Date & Time'])\n"
     ]
    }
   ],
   "source": [
    "#data=pd.read_csv('E:/SEM-1/Smart Energy/Assignment1/Home1_Daily_data.csv')\n",
    "original=data[['Date & Time', 'House overall [kW]']]\n",
    "original['Date & Time']=pd.to_datetime(original['Date & Time'])"
   ]
  },
  {
   "cell_type": "code",
   "execution_count": 31,
   "id": "0493dff2",
   "metadata": {},
   "outputs": [],
   "source": [
    "original=original.loc[original['Date & Time']>='2014-11-30']"
   ]
  },
  {
   "cell_type": "code",
   "execution_count": 32,
   "id": "2ac4e906",
   "metadata": {},
   "outputs": [
    {
     "name": "stderr",
     "output_type": "stream",
     "text": [
      "C:\\Users\\bsaiv\\AppData\\Local\\Temp\\ipykernel_17984\\2722864905.py:2: SettingWithCopyWarning: \n",
      "A value is trying to be set on a copy of a slice from a DataFrame\n",
      "\n",
      "See the caveats in the documentation: https://pandas.pydata.org/pandas-docs/stable/user_guide/indexing.html#returning-a-view-versus-a-copy\n",
      "  original.rename(columns = {'House overall [kW]' : 'House_overall_Original'}, inplace = True)\n"
     ]
    },
    {
     "data": {
      "text/html": [
       "<div>\n",
       "<style scoped>\n",
       "    .dataframe tbody tr th:only-of-type {\n",
       "        vertical-align: middle;\n",
       "    }\n",
       "\n",
       "    .dataframe tbody tr th {\n",
       "        vertical-align: top;\n",
       "    }\n",
       "\n",
       "    .dataframe thead th {\n",
       "        text-align: right;\n",
       "    }\n",
       "</style>\n",
       "<table border=\"1\" class=\"dataframe\">\n",
       "  <thead>\n",
       "    <tr style=\"text-align: right;\">\n",
       "      <th></th>\n",
       "      <th>Date &amp; Time</th>\n",
       "      <th>House_overall_predicted</th>\n",
       "      <th>House_overall_Original</th>\n",
       "    </tr>\n",
       "  </thead>\n",
       "  <tbody>\n",
       "    <tr>\n",
       "      <th>0</th>\n",
       "      <td>2014-11-30</td>\n",
       "      <td>41.469246</td>\n",
       "      <td>24.779477</td>\n",
       "    </tr>\n",
       "    <tr>\n",
       "      <th>1</th>\n",
       "      <td>2014-12-01</td>\n",
       "      <td>34.851669</td>\n",
       "      <td>22.193308</td>\n",
       "    </tr>\n",
       "    <tr>\n",
       "      <th>2</th>\n",
       "      <td>2014-12-02</td>\n",
       "      <td>31.546305</td>\n",
       "      <td>41.024441</td>\n",
       "    </tr>\n",
       "    <tr>\n",
       "      <th>3</th>\n",
       "      <td>2014-12-03</td>\n",
       "      <td>39.532051</td>\n",
       "      <td>48.752172</td>\n",
       "    </tr>\n",
       "    <tr>\n",
       "      <th>4</th>\n",
       "      <td>2014-12-04</td>\n",
       "      <td>44.359932</td>\n",
       "      <td>43.555867</td>\n",
       "    </tr>\n",
       "    <tr>\n",
       "      <th>5</th>\n",
       "      <td>2014-12-05</td>\n",
       "      <td>40.543282</td>\n",
       "      <td>43.868534</td>\n",
       "    </tr>\n",
       "    <tr>\n",
       "      <th>6</th>\n",
       "      <td>2014-12-06</td>\n",
       "      <td>43.154083</td>\n",
       "      <td>46.880163</td>\n",
       "    </tr>\n",
       "    <tr>\n",
       "      <th>7</th>\n",
       "      <td>2014-12-07</td>\n",
       "      <td>50.537746</td>\n",
       "      <td>42.033757</td>\n",
       "    </tr>\n",
       "    <tr>\n",
       "      <th>8</th>\n",
       "      <td>2014-12-08</td>\n",
       "      <td>39.728806</td>\n",
       "      <td>51.628752</td>\n",
       "    </tr>\n",
       "    <tr>\n",
       "      <th>9</th>\n",
       "      <td>2014-12-09</td>\n",
       "      <td>53.183922</td>\n",
       "      <td>51.055545</td>\n",
       "    </tr>\n",
       "    <tr>\n",
       "      <th>10</th>\n",
       "      <td>2014-12-10</td>\n",
       "      <td>48.962208</td>\n",
       "      <td>54.828364</td>\n",
       "    </tr>\n",
       "    <tr>\n",
       "      <th>11</th>\n",
       "      <td>2014-12-11</td>\n",
       "      <td>47.495693</td>\n",
       "      <td>44.669823</td>\n",
       "    </tr>\n",
       "    <tr>\n",
       "      <th>12</th>\n",
       "      <td>2014-12-12</td>\n",
       "      <td>47.602798</td>\n",
       "      <td>44.217365</td>\n",
       "    </tr>\n",
       "    <tr>\n",
       "      <th>13</th>\n",
       "      <td>2014-12-13</td>\n",
       "      <td>45.079437</td>\n",
       "      <td>65.155409</td>\n",
       "    </tr>\n",
       "    <tr>\n",
       "      <th>14</th>\n",
       "      <td>2014-12-14</td>\n",
       "      <td>44.529282</td>\n",
       "      <td>61.789577</td>\n",
       "    </tr>\n",
       "    <tr>\n",
       "      <th>15</th>\n",
       "      <td>2014-12-15</td>\n",
       "      <td>44.829533</td>\n",
       "      <td>38.502988</td>\n",
       "    </tr>\n",
       "    <tr>\n",
       "      <th>16</th>\n",
       "      <td>2014-12-16</td>\n",
       "      <td>37.363544</td>\n",
       "      <td>48.544206</td>\n",
       "    </tr>\n",
       "    <tr>\n",
       "      <th>17</th>\n",
       "      <td>2014-12-17</td>\n",
       "      <td>44.732933</td>\n",
       "      <td>52.286783</td>\n",
       "    </tr>\n",
       "    <tr>\n",
       "      <th>18</th>\n",
       "      <td>2014-12-18</td>\n",
       "      <td>44.057762</td>\n",
       "      <td>50.378294</td>\n",
       "    </tr>\n",
       "    <tr>\n",
       "      <th>19</th>\n",
       "      <td>2014-12-19</td>\n",
       "      <td>42.048283</td>\n",
       "      <td>49.520360</td>\n",
       "    </tr>\n",
       "    <tr>\n",
       "      <th>20</th>\n",
       "      <td>2014-12-20</td>\n",
       "      <td>43.081524</td>\n",
       "      <td>58.940439</td>\n",
       "    </tr>\n",
       "    <tr>\n",
       "      <th>21</th>\n",
       "      <td>2014-12-21</td>\n",
       "      <td>47.846184</td>\n",
       "      <td>53.196939</td>\n",
       "    </tr>\n",
       "    <tr>\n",
       "      <th>22</th>\n",
       "      <td>2014-12-22</td>\n",
       "      <td>48.317917</td>\n",
       "      <td>48.986264</td>\n",
       "    </tr>\n",
       "    <tr>\n",
       "      <th>23</th>\n",
       "      <td>2014-12-23</td>\n",
       "      <td>42.168896</td>\n",
       "      <td>47.776552</td>\n",
       "    </tr>\n",
       "    <tr>\n",
       "      <th>24</th>\n",
       "      <td>2014-12-24</td>\n",
       "      <td>43.032017</td>\n",
       "      <td>62.759971</td>\n",
       "    </tr>\n",
       "    <tr>\n",
       "      <th>25</th>\n",
       "      <td>2014-12-25</td>\n",
       "      <td>46.488266</td>\n",
       "      <td>39.592732</td>\n",
       "    </tr>\n",
       "    <tr>\n",
       "      <th>26</th>\n",
       "      <td>2014-12-26</td>\n",
       "      <td>38.298492</td>\n",
       "      <td>40.115073</td>\n",
       "    </tr>\n",
       "    <tr>\n",
       "      <th>27</th>\n",
       "      <td>2014-12-27</td>\n",
       "      <td>37.255188</td>\n",
       "      <td>52.093314</td>\n",
       "    </tr>\n",
       "    <tr>\n",
       "      <th>28</th>\n",
       "      <td>2014-12-28</td>\n",
       "      <td>41.976543</td>\n",
       "      <td>65.333374</td>\n",
       "    </tr>\n",
       "    <tr>\n",
       "      <th>29</th>\n",
       "      <td>2014-12-29</td>\n",
       "      <td>40.150417</td>\n",
       "      <td>60.521453</td>\n",
       "    </tr>\n",
       "    <tr>\n",
       "      <th>30</th>\n",
       "      <td>2014-12-30</td>\n",
       "      <td>41.863720</td>\n",
       "      <td>52.930421</td>\n",
       "    </tr>\n",
       "    <tr>\n",
       "      <th>31</th>\n",
       "      <td>2014-12-31</td>\n",
       "      <td>45.765171</td>\n",
       "      <td>49.376707</td>\n",
       "    </tr>\n",
       "  </tbody>\n",
       "</table>\n",
       "</div>"
      ],
      "text/plain": [
       "   Date & Time  House_overall_predicted  House_overall_Original\n",
       "0   2014-11-30                41.469246               24.779477\n",
       "1   2014-12-01                34.851669               22.193308\n",
       "2   2014-12-02                31.546305               41.024441\n",
       "3   2014-12-03                39.532051               48.752172\n",
       "4   2014-12-04                44.359932               43.555867\n",
       "5   2014-12-05                40.543282               43.868534\n",
       "6   2014-12-06                43.154083               46.880163\n",
       "7   2014-12-07                50.537746               42.033757\n",
       "8   2014-12-08                39.728806               51.628752\n",
       "9   2014-12-09                53.183922               51.055545\n",
       "10  2014-12-10                48.962208               54.828364\n",
       "11  2014-12-11                47.495693               44.669823\n",
       "12  2014-12-12                47.602798               44.217365\n",
       "13  2014-12-13                45.079437               65.155409\n",
       "14  2014-12-14                44.529282               61.789577\n",
       "15  2014-12-15                44.829533               38.502988\n",
       "16  2014-12-16                37.363544               48.544206\n",
       "17  2014-12-17                44.732933               52.286783\n",
       "18  2014-12-18                44.057762               50.378294\n",
       "19  2014-12-19                42.048283               49.520360\n",
       "20  2014-12-20                43.081524               58.940439\n",
       "21  2014-12-21                47.846184               53.196939\n",
       "22  2014-12-22                48.317917               48.986264\n",
       "23  2014-12-23                42.168896               47.776552\n",
       "24  2014-12-24                43.032017               62.759971\n",
       "25  2014-12-25                46.488266               39.592732\n",
       "26  2014-12-26                38.298492               40.115073\n",
       "27  2014-12-27                37.255188               52.093314\n",
       "28  2014-12-28                41.976543               65.333374\n",
       "29  2014-12-29                40.150417               60.521453\n",
       "30  2014-12-30                41.863720               52.930421\n",
       "31  2014-12-31                45.765171               49.376707"
      ]
     },
     "execution_count": 32,
     "metadata": {},
     "output_type": "execute_result"
    }
   ],
   "source": [
    "df_forecast.rename(columns = {'House overall [kW]' : 'House_overall_predicted'}, inplace = True)\n",
    "original.rename(columns = {'House overall [kW]' : 'House_overall_Original'}, inplace = True)\n",
    "final_dataset=df_forecast[['Date & Time','House_overall_predicted']].merge(original[['Date & Time','House_overall_Original']], on='Date & Time', how='left')\n",
    "final_dataset"
   ]
  },
  {
   "cell_type": "code",
   "execution_count": 33,
   "id": "b3b920d9",
   "metadata": {},
   "outputs": [
    {
     "name": "stderr",
     "output_type": "stream",
     "text": [
      "C:\\Users\\bsaiv\\anaconda3\\envs\\tf\\lib\\site-packages\\seaborn\\_decorators.py:36: FutureWarning: Pass the following variables as keyword args: x, y. From version 0.12, the only valid positional argument will be `data`, and passing other arguments without an explicit keyword will result in an error or misinterpretation.\n",
      "  warnings.warn(\n",
      "C:\\Users\\bsaiv\\anaconda3\\envs\\tf\\lib\\site-packages\\seaborn\\_decorators.py:36: FutureWarning: Pass the following variables as keyword args: x, y. From version 0.12, the only valid positional argument will be `data`, and passing other arguments without an explicit keyword will result in an error or misinterpretation.\n",
      "  warnings.warn(\n"
     ]
    },
    {
     "data": {
      "text/plain": [
       "<AxesSubplot:xlabel='Date & Time', ylabel='House_overall_Original'>"
      ]
     },
     "execution_count": 33,
     "metadata": {},
     "output_type": "execute_result"
    },
    {
     "data": {
      "image/png": "[encoded data removed]",
      "text/plain": [
       "<Figure size 1058.4x595.44 with 1 Axes>"
      ]
     },
     "metadata": {},
     "output_type": "display_data"
    }
   ],
   "source": [
    "sns.set(rc={'figure.figsize':(14.7,8.27)})\n",
    "sns.lineplot(original['Date & Time'],original['House_overall_Original'])\n",
    "sns.lineplot(df_forecast['Date & Time'],df_forecast['House_overall_predicted'])"
   ]
  },
  {
   "cell_type": "code",
   "execution_count": 34,
   "id": "94c5cdd3",
   "metadata": {},
   "outputs": [],
   "source": [
    "import numpy as np\n",
    "def mape(actual, pred): \n",
    "    actual, pred = np.array(actual), np.array(pred)\n",
    "    return np.mean(np.abs((actual - pred) / actual)) * 100"
   ]
  },
  {
   "cell_type": "code",
   "execution_count": 35,
   "id": "3f10c6f3",
   "metadata": {},
   "outputs": [
    {
     "data": {
      "text/html": [
       "<div>\n",
       "<style scoped>\n",
       "    .dataframe tbody tr th:only-of-type {\n",
       "        vertical-align: middle;\n",
       "    }\n",
       "\n",
       "    .dataframe tbody tr th {\n",
       "        vertical-align: top;\n",
       "    }\n",
       "\n",
       "    .dataframe thead th {\n",
       "        text-align: right;\n",
       "    }\n",
       "</style>\n",
       "<table border=\"1\" class=\"dataframe\">\n",
       "  <thead>\n",
       "    <tr style=\"text-align: right;\">\n",
       "      <th></th>\n",
       "      <th>Method</th>\n",
       "      <th>RMSE</th>\n",
       "      <th>MAPE</th>\n",
       "      <th>MAE</th>\n",
       "    </tr>\n",
       "  </thead>\n",
       "  <tbody>\n",
       "    <tr>\n",
       "      <th>0</th>\n",
       "      <td>Multivariate time series forecasting using LSTM</td>\n",
       "      <td>11.178442</td>\n",
       "      <td>19.555099</td>\n",
       "      <td>9.245983</td>\n",
       "    </tr>\n",
       "  </tbody>\n",
       "</table>\n",
       "</div>"
      ],
      "text/plain": [
       "                                            Method       RMSE       MAPE  \\\n",
       "0  Multivariate time series forecasting using LSTM  11.178442  19.555099   \n",
       "\n",
       "        MAE  \n",
       "0  9.245983  "
      ]
     },
     "execution_count": 35,
     "metadata": {},
     "output_type": "execute_result"
    }
   ],
   "source": [
    "from sklearn.metrics import mean_squared_error\n",
    "from sklearn.metrics import mean_absolute_error\n",
    "from math import sqrt\n",
    "rmse = sqrt(mean_squared_error(original['House_overall_Original'], df_forecast['House_overall_predicted'])) \n",
    "MAPE = mape(original['House_overall_Original'], df_forecast['House_overall_predicted'])\n",
    "mae = mean_absolute_error(original['House_overall_Original'], df_forecast['House_overall_predicted'])\n",
    "results = pd.DataFrame({'Method':['Multivariate time series forecasting using LSTM'], 'MAPE': [MAPE], 'RMSE': [rmse], 'MAE': [mae]})\n",
    "results = results[['Method', 'RMSE', 'MAPE', 'MAE']]\n",
    "results"
   ]
  },
  {
   "cell_type": "code",
   "execution_count": null,
   "id": "8709f62b",
   "metadata": {},
   "outputs": [],
   "source": []
  }
 ],
 "metadata": {
  "kernelspec": {
   "display_name": "Python 3 (ipykernel)",
   "language": "python",
   "name": "python3"
  },
  "language_info": {
   "codemirror_mode": {
    "name": "ipython",
    "version": 3
   },
   "file_extension": ".py",
   "mimetype": "text/x-python",
   "name": "python",
   "nbconvert_exporter": "python",
   "pygments_lexer": "ipython3",
   "version": "3.9.7"
  }
 },
 "nbformat": 4,
 "nbformat_minor": 5
}
